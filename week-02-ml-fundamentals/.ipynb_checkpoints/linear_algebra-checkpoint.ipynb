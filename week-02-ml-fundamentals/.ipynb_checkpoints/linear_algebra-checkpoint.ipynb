{
 "cells": [
  {
   "cell_type": "code",
   "execution_count": 1,
   "id": "bf84c415-2640-41dd-8ecf-61eb6ccc1bc0",
   "metadata": {},
   "outputs": [
    {
     "name": "stdout",
     "output_type": "stream",
     "text": [
      "Matrix A: \n",
      " [[1 2]\n",
      " [3 4]]\n",
      "Transpose: \n",
      " [[1 3]\n",
      " [2 4]]\n"
     ]
    }
   ],
   "source": [
    "import numpy as np\n",
    "A = np.array([[1, 2], [3, 4]])\n",
    "print(\"Matrix A: \\n\",A)\n",
    "print(\"Transpose: \\n\", A.T)\n"
   ]
  },
  {
   "cell_type": "code",
   "execution_count": 2,
   "id": "c096089d-e506-4cfe-a0e5-7204a780df3a",
   "metadata": {},
   "outputs": [
    {
     "name": "stdout",
     "output_type": "stream",
     "text": [
      "Addition:  7\n",
      "Multiplication:  10\n",
      "Division:  2.5\n"
     ]
    }
   ],
   "source": [
    "# Scalar example\n",
    "a = 5 \n",
    "b = 2\n",
    "print(\"Addition: \", a + b)\n",
    "print(\"Multiplication: \", a * b)\n",
    "print(\"Division: \", a / b)\n"
   ]
  },
  {
   "cell_type": "code",
   "execution_count": 3,
   "id": "9961026f-de9c-42b8-be29-87fe74434eab",
   "metadata": {},
   "outputs": [
    {
     "name": "stdout",
     "output_type": "stream",
     "text": [
      "Vector v1:  [2 4]\n",
      "Vector v2:  [1 3]\n"
     ]
    }
   ],
   "source": [
    "#Creating Vectors\n",
    "import numpy as np\n",
    "v1 = np.array([2, 4])\n",
    "v2 = np.array([1, 3])\n",
    "print(\"Vector v1: \", v1)\n",
    "print(\"Vector v2: \", v2)\n",
    "\n"
   ]
  },
  {
   "cell_type": "code",
   "execution_count": 4,
   "id": "73ea6bda-3aa3-46b7-a462-4cbe770c5c95",
   "metadata": {},
   "outputs": [
    {
     "name": "stdout",
     "output_type": "stream",
     "text": [
      "v1 + v2 [3 7]\n"
     ]
    }
   ],
   "source": [
    "# Vector Operations\n",
    "print(\"v1 + v2\", v1 + v2)"
   ]
  },
  {
   "cell_type": "code",
   "execution_count": 10,
   "id": "aee31f2a-c258-423b-9d9e-c2653e3eaa67",
   "metadata": {},
   "outputs": [
    {
     "name": "stdout",
     "output_type": "stream",
     "text": [
      "v1 - v2:  [1 1]\n",
      " 2 * v1:  [4 8]\n",
      "Dot product:  14\n",
      "Vector norm (magnitude of v1):  4.47213595499958\n"
     ]
    }
   ],
   "source": [
    "# More vectors operations\n",
    "print(\"v1 - v2: \", v1 - v2) #returns [1 1]\n",
    "print(\" 2 * v1: \", 2 * v1) #returns [4 8]\n",
    "print(\"Dot product: \", np.dot(v1, v2)) #if i sure then its should returns  [2 12] which is equal to 14\n",
    "print(\"Vector norm (magnitude of v1): \", np.linalg.norm(v1))"
   ]
  },
  {
   "cell_type": "code",
   "execution_count": 11,
   "id": "7188480a-fa52-410c-a98c-d6e0853c2c6c",
   "metadata": {},
   "outputs": [
    {
     "name": "stdout",
     "output_type": "stream",
     "text": [
      "Matrix A: \n",
      " [[1 2]\n",
      " [3 4]]\n",
      "Matrix B: \n",
      " [[5 6]\n",
      " [7 8]]\n"
     ]
    }
   ],
   "source": [
    "###Creating Matrices\n",
    "A = np.array([[1, 2], [3, 4]])\n",
    "B = np.array([[5, 6], [7, 8]])\n",
    "print(\"Matrix A: \\n\", A)\n",
    "print(\"Matrix B: \\n\", B)"
   ]
  },
  {
   "cell_type": "code",
   "execution_count": 12,
   "id": "823ad57a-0cd1-4fcd-8ed6-2aaa7a955e47",
   "metadata": {},
   "outputs": [
    {
     "name": "stdout",
     "output_type": "stream",
     "text": [
      "A + B:  [[ 6  8]\n",
      " [10 12]]\n",
      "A - B:  [[-4 -4]\n",
      " [-4 -4]]\n",
      "A * 2:  [[2 4]\n",
      " [6 8]]\n"
     ]
    }
   ],
   "source": [
    "### Matrix operations\n",
    "print(\"A + B: \", A + B) #returns [6 8] [10 12]\n",
    "print(\"A - B: \", A - B) #returns [-4 -4] [-4 -4]\n",
    "print(\"A * 2: \", A * 2)   # Scalar multiplication # if i predict [2 4] [6 8]\n"
   ]
  },
  {
   "cell_type": "code",
   "execution_count": 15,
   "id": "d0d89b8c-4569-4c2c-8bb9-5502d41b6d5a",
   "metadata": {},
   "outputs": [
    {
     "name": "stdout",
     "output_type": "stream",
     "text": [
      "Matrix A: \n",
      " [[1 2]\n",
      " [3 4]]\n",
      "Transpose of A: \n",
      " [[1 3]\n",
      " [2 4]]\n"
     ]
    }
   ],
   "source": [
    "# Matrix Transpose\n",
    "print(\"Matrix A: \\n\", A)\n",
    "print(\"Transpose of A: \\n\", A.T)\n"
   ]
  },
  {
   "cell_type": "code",
   "execution_count": 17,
   "id": "9190eb13-5a1b-4aa2-9f02-818d5ac46179",
   "metadata": {},
   "outputs": [
    {
     "name": "stdout",
     "output_type": "stream",
     "text": [
      "Matrix A: \n",
      " [[1 2]\n",
      " [3 4]]\n",
      "Matrix B: \n",
      " [[5 6]\n",
      " [7 8]]\n",
      " A dot B: \n",
      " [[19 22]\n",
      " [43 50]]\n",
      " A @ B: \n",
      " [[19 22]\n",
      " [43 50]]\n"
     ]
    }
   ],
   "source": [
    "### Matrix Multiplication\n",
    "print(\"Matrix A: \\n\", A)\n",
    "print(\"Matrix B: \\n\", B)\n",
    "print(\" A dot B: \\n\", np.dot(A,B)) #returns  [[19 22] [43 50]]\n",
    "print(\" A @ B: \\n\", A @ B)"
   ]
  },
  {
   "cell_type": "code",
   "execution_count": 18,
   "id": "da3f90be-fb2d-4e27-b753-f75eb153b0cf",
   "metadata": {},
   "outputs": [
    {
     "name": "stdout",
     "output_type": "stream",
     "text": [
      "Identity Matrix:\n",
      " [[1. 0.]\n",
      " [0. 1.]]\n",
      "A * I:\n",
      " [[1. 2.]\n",
      " [3. 4.]]\n"
     ]
    }
   ],
   "source": [
    "I = np.eye(2)  # 2x2 identity matrix\n",
    "print(\"Identity Matrix:\\n\", I)\n",
    "print(\"A * I:\\n\", A @ I)\n"
   ]
  },
  {
   "cell_type": "code",
   "execution_count": 19,
   "id": "087dba7a-0e83-4201-b0be-4f6937bef952",
   "metadata": {},
   "outputs": [
    {
     "name": "stdout",
     "output_type": "stream",
     "text": [
      "Inverse of A:\n",
      " [[-2.   1. ]\n",
      " [ 1.5 -0.5]]\n",
      "A * A_inv (should be identity):\n",
      " [[1.0000000e+00 0.0000000e+00]\n",
      " [8.8817842e-16 1.0000000e+00]]\n"
     ]
    }
   ],
   "source": [
    "A_inv = np.linalg.inv(A)\n",
    "print(\"Inverse of A:\\n\", A_inv)\n",
    "print(\"A * A_inv (should be identity):\\n\", A @ A_inv)\n"
   ]
  },
  {
   "cell_type": "code",
   "execution_count": 20,
   "id": "d90e6d87-5df6-4100-8d55-dd5387ad5177",
   "metadata": {},
   "outputs": [
    {
     "name": "stdout",
     "output_type": "stream",
     "text": [
      "Determinant of A: -2.0000000000000004\n",
      "Rank of A: 2\n"
     ]
    }
   ],
   "source": [
    "print(\"Determinant of A:\", np.linalg.det(A))\n",
    "print(\"Rank of A:\", np.linalg.matrix_rank(A))\n"
   ]
  },
  {
   "cell_type": "code",
   "execution_count": null,
   "id": "002fe87a-f421-43a6-a885-1ea4ff9da74d",
   "metadata": {},
   "outputs": [],
   "source": []
  }
 ],
 "metadata": {
  "kernelspec": {
   "display_name": "Python 3 (ipykernel)",
   "language": "python",
   "name": "python3"
  },
  "language_info": {
   "codemirror_mode": {
    "name": "ipython",
    "version": 3
   },
   "file_extension": ".py",
   "mimetype": "text/x-python",
   "name": "python",
   "nbconvert_exporter": "python",
   "pygments_lexer": "ipython3",
   "version": "3.13.5"
  }
 },
 "nbformat": 4,
 "nbformat_minor": 5
}
